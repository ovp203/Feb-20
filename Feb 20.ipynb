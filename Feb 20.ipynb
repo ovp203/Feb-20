{
 "cells": [
  {
   "cell_type": "code",
   "execution_count": 14,
   "metadata": {
    "collapsed": true
   },
   "outputs": [],
   "source": [
    "poe_poem = \"\"\"For her this rhyme is penned, whose luminous eyes,\n",
    "Brightly expressive as the twins of Loeda.\n",
    "Shall find her own sweet name, that, nestling lies\n",
    "Upon, the page, enwrapped from every reader.\n",
    "Search narrowly the lines! — they hold a treasure\n",
    "Divine—a talisman—an amulet\n",
    "That must be worn at heart. Search well the measure\n",
    "The words—the syllables! Do not forget\n",
    "The trivialest point, or you may lose your labor!\n",
    "And yet there is in this no Gordian knot\n",
    "Which one might not undo without a saber,\n",
    "If one could merely comprehend the plot.\n",
    "Enwritten upon the leaf where now are peering\n",
    "Eyes scintillating soul, there lies perdus\n",
    "Three eloquent words oft uttered in the hearing\n",
    "Of poets, by poets as the name is a poet's, too.\n",
    "Its letters, although naturally lying\n",
    "Like the knight Pinto—Mendez Ferdinando\n",
    "Still form a synonym for Truth. Cease trying!\n",
    "You will not read the riddle, though you do the best you can do.\"\"\""
   ]
  },
  {
   "cell_type": "code",
   "execution_count": 15,
   "metadata": {},
   "outputs": [
    {
     "data": {
      "text/plain": [
       "\"For her this rhyme is penned, whose luminous eyes,\\nBrightly expressive as the twins of Loeda.\\nShall find her own sweet name, that, nestling lies\\nUpon, the page, enwrapped from every reader.\\nSearch narrowly the lines! — they hold a treasure\\nDivine—a talisman—an amulet\\nThat must be worn at heart. Search well the measure\\nThe words—the syllables! Do not forget\\nThe trivialest point, or you may lose your labor!\\nAnd yet there is in this no Gordian knot\\nWhich one might not undo without a saber,\\nIf one could merely comprehend the plot.\\nEnwritten upon the leaf where now are peering\\nEyes scintillating soul, there lies perdus\\nThree eloquent words oft uttered in the hearing\\nOf poets, by poets as the name is a poet's, too.\\nIts letters, although naturally lying\\nLike the knight Pinto—Mendez Ferdinando\\nStill form a synonym for Truth. Cease trying!\\nYou will not read the riddle, though you do the best you can do.\""
      ]
     },
     "execution_count": 15,
     "metadata": {},
     "output_type": "execute_result"
    }
   ],
   "source": [
    "poe_poem"
   ]
  },
  {
   "cell_type": "code",
   "execution_count": 16,
   "metadata": {},
   "outputs": [
    {
     "data": {
      "text/plain": [
       "str"
      ]
     },
     "execution_count": 16,
     "metadata": {},
     "output_type": "execute_result"
    }
   ],
   "source": [
    "type(poe_poem)"
   ]
  },
  {
   "cell_type": "code",
   "execution_count": 17,
   "metadata": {
    "collapsed": true
   },
   "outputs": [],
   "source": [
    "poe_split = poe_poem.splitlines()"
   ]
  },
  {
   "cell_type": "code",
   "execution_count": 18,
   "metadata": {},
   "outputs": [
    {
     "data": {
      "text/plain": [
       "list"
      ]
     },
     "execution_count": 18,
     "metadata": {},
     "output_type": "execute_result"
    }
   ],
   "source": [
    "type(poe_split)"
   ]
  },
  {
   "cell_type": "code",
   "execution_count": 19,
   "metadata": {},
   "outputs": [
    {
     "data": {
      "text/plain": [
       "['For her this rhyme is penned, whose luminous eyes,',\n",
       " 'Brightly expressive as the twins of Loeda.',\n",
       " 'Shall find her own sweet name, that, nestling lies',\n",
       " 'Upon, the page, enwrapped from every reader.',\n",
       " 'Search narrowly the lines! — they hold a treasure',\n",
       " 'Divine—a talisman—an amulet',\n",
       " 'That must be worn at heart. Search well the measure',\n",
       " 'The words—the syllables! Do not forget',\n",
       " 'The trivialest point, or you may lose your labor!',\n",
       " 'And yet there is in this no Gordian knot',\n",
       " 'Which one might not undo without a saber,',\n",
       " 'If one could merely comprehend the plot.',\n",
       " 'Enwritten upon the leaf where now are peering',\n",
       " 'Eyes scintillating soul, there lies perdus',\n",
       " 'Three eloquent words oft uttered in the hearing',\n",
       " \"Of poets, by poets as the name is a poet's, too.\",\n",
       " 'Its letters, although naturally lying',\n",
       " 'Like the knight Pinto—Mendez Ferdinando',\n",
       " 'Still form a synonym for Truth. Cease trying!',\n",
       " 'You will not read the riddle, though you do the best you can do.']"
      ]
     },
     "execution_count": 19,
     "metadata": {},
     "output_type": "execute_result"
    }
   ],
   "source": [
    "poe_split"
   ]
  },
  {
   "cell_type": "code",
   "execution_count": 20,
   "metadata": {
    "collapsed": true
   },
   "outputs": [],
   "source": [
    "def myfun(line):\n",
    "    if str.isalpha(line):\n",
    "        return line\n",
    "\n",
    "    #.isalpha method to pull out only letters"
   ]
  },
  {
   "cell_type": "code",
   "execution_count": 21,
   "metadata": {},
   "outputs": [
    {
     "data": {
      "text/plain": [
       "'sasha'"
      ]
     },
     "execution_count": 21,
     "metadata": {},
     "output_type": "execute_result"
    }
   ],
   "source": [
    "myfun(\"sasha\")"
   ]
  },
  {
   "cell_type": "code",
   "execution_count": 22,
   "metadata": {
    "collapsed": true
   },
   "outputs": [],
   "source": [
    "def remove_punct(word):\n",
    "    for i in word:\n",
    "        if not i.isalpha():\n",
    "            word = word.replace(i,\"\")\n",
    "    return word\n",
    "#word is a string, collection of items. If its not "
   ]
  },
  {
   "cell_type": "code",
   "execution_count": 23,
   "metadata": {},
   "outputs": [
    {
     "data": {
      "text/plain": [
       "'sasha'"
      ]
     },
     "execution_count": 23,
     "metadata": {},
     "output_type": "execute_result"
    }
   ],
   "source": [
    "remove_punct(\"sasha 1%^&*\")"
   ]
  },
  {
   "cell_type": "code",
   "execution_count": 24,
   "metadata": {},
   "outputs": [
    {
     "data": {
      "text/plain": [
       "list"
      ]
     },
     "execution_count": 24,
     "metadata": {},
     "output_type": "execute_result"
    }
   ],
   "source": [
    "type(poe_split)"
   ]
  },
  {
   "cell_type": "code",
   "execution_count": 26,
   "metadata": {},
   "outputs": [
    {
     "name": "stdout",
     "output_type": "stream",
     "text": [
      "F r a n c e s s a r g e n t o s g o o d "
     ]
    }
   ],
   "source": [
    "counter = 0\n",
    "for i in poe_split: #pull out the first line\n",
    "    i = remove_punct(i)\n",
    "    print(i[counter], end= \" \")\n",
    "    \n",
    "    counter = counter + 1"
   ]
  },
  {
   "cell_type": "code",
   "execution_count": null,
   "metadata": {
    "collapsed": true
   },
   "outputs": [],
   "source": []
  },
  {
   "cell_type": "code",
   "execution_count": null,
   "metadata": {
    "collapsed": true
   },
   "outputs": [],
   "source": []
  },
  {
   "cell_type": "code",
   "execution_count": null,
   "metadata": {
    "collapsed": true
   },
   "outputs": [],
   "source": []
  },
  {
   "cell_type": "code",
   "execution_count": null,
   "metadata": {
    "collapsed": true
   },
   "outputs": [],
   "source": []
  },
  {
   "cell_type": "code",
   "execution_count": null,
   "metadata": {
    "collapsed": true
   },
   "outputs": [],
   "source": []
  }
 ],
 "metadata": {
  "kernelspec": {
   "display_name": "Python 3",
   "language": "python",
   "name": "python3"
  },
  "language_info": {
   "codemirror_mode": {
    "name": "ipython",
    "version": 3
   },
   "file_extension": ".py",
   "mimetype": "text/x-python",
   "name": "python",
   "nbconvert_exporter": "python",
   "pygments_lexer": "ipython3",
   "version": "3.6.2"
  }
 },
 "nbformat": 4,
 "nbformat_minor": 2
}
